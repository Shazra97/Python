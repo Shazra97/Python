{
  "nbformat": 4,
  "nbformat_minor": 0,
  "metadata": {
    "colab": {
      "name": "ifelse.ipynb",
      "provenance": [],
      "authorship_tag": "ABX9TyPstNQvwYZM070UKcEF9xrW",
      "include_colab_link": true
    },
    "kernelspec": {
      "name": "python3",
      "display_name": "Python 3"
    },
    "language_info": {
      "name": "python"
    }
  },
  "cells": [
    {
      "cell_type": "markdown",
      "metadata": {
        "id": "view-in-github",
        "colab_type": "text"
      },
      "source": [
        "<a href=\"https://colab.research.google.com/github/Shazra97/Python/blob/master/ifelse.ipynb\" target=\"_parent\"><img src=\"https://colab.research.google.com/assets/colab-badge.svg\" alt=\"Open In Colab\"/></a>"
      ]
    },
    {
      "cell_type": "code",
      "execution_count": 1,
      "metadata": {
        "colab": {
          "base_uri": "https://localhost:8080/"
        },
        "id": "G7ive0QDuSLC",
        "outputId": "b3fb0081-ccab-49fe-bc32-5ed7b9200ac5"
      },
      "outputs": [
        {
          "output_type": "stream",
          "name": "stdout",
          "text": [
            "b is greater than a\n"
          ]
        }
      ],
      "source": [
        "a = 33\n",
        "b = 200\n",
        "if b > a: #Python relies on indentation (whitespace at the beginning of a line) to define scope in the code.\n",
        " print (\"b is greater than a\")"
      ]
    },
    {
      "cell_type": "code",
      "source": [
        "a=50\n",
        "b=45\n",
        "if a==b:\n",
        "  print (\"a is equal to b\")\n",
        "elif a!=b:\n",
        "   print (\"a is not equal to b\")\n",
        "else:\n",
        "   print (\"may be less or may be greater\")"
      ],
      "metadata": {
        "colab": {
          "base_uri": "https://localhost:8080/"
        },
        "id": "nfAVDQTrwg17",
        "outputId": "cc6e6052-af38-4747-81e5-7e9a9aeef5c8"
      },
      "execution_count": 9,
      "outputs": [
        {
          "output_type": "stream",
          "name": "stdout",
          "text": [
            "a is not equal to b\n"
          ]
        }
      ]
    },
    {
      "cell_type": "code",
      "source": [
        "a=18\n",
        "if a==18:\n",
        "  print (\"you are eligible for votting\")\n",
        "elif a<=18:\n",
        "  print(\"you are not eligible\")\n",
        "print (\"Good bye\")"
      ],
      "metadata": {
        "colab": {
          "base_uri": "https://localhost:8080/"
        },
        "id": "GqmD5-6nzfVW",
        "outputId": "af2a813c-e7ff-4763-ab87-f28fcc062f5f"
      },
      "execution_count": 13,
      "outputs": [
        {
          "output_type": "stream",
          "name": "stdout",
          "text": [
            "you are eligible for votting\n",
            "Good bye\n"
          ]
        }
      ]
    }
  ]
}